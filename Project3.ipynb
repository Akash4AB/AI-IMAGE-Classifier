{
 "cells": [
  {
   "cell_type": "code",
   "execution_count": 2,
   "id": "8bfeaacc-7437-4a98-b4d0-89b08fff01b7",
   "metadata": {},
   "outputs": [],
   "source": [
    "import zipfile\n",
    "import os\n",
    "import shutil\n",
    "import glob\n",
    "import random\n",
    "\n",
    "# Define paths\n",
    "zip_file1_path = 'updated_zipfile_old.zip'\n",
    "zip_file2_path = 'Akash_DATA_new.zip'\n",
    "extract_dir1 = 'extracted_zip1'\n",
    "extract_dir2 = 'extracted_zip2'\n",
    "new_zip_file_path = 'updated_zipfile.zip'\n",
    "\n",
    "# Step 1: Extract both zip files\n",
    "with zipfile.ZipFile(zip_file1_path, 'r') as zip_ref:\n",
    "    zip_ref.extractall(extract_dir1)\n",
    "\n",
    "with zipfile.ZipFile(zip_file2_path, 'r') as zip_ref:\n",
    "    zip_ref.extractall(extract_dir2)"
   ]
  },
  {
   "cell_type": "code",
   "execution_count": 4,
   "id": "ec263ee3-5e82-40bb-807f-e7eabcc37157",
   "metadata": {},
   "outputs": [
    {
     "name": "stdout",
     "output_type": "stream",
     "text": [
      "Files have been moved and zipped successfully.\n"
     ]
    }
   ],
   "source": [
    "\n",
    "# Step 2: Load and shuffle files from the second zip file\n",
    "real_files = glob.glob(os.path.join(extract_dir2, 'real', '*'))\n",
    "fake_files = glob.glob(os.path.join(extract_dir2, 'fake', '*'))\n",
    "\n",
    "random.shuffle(real_files)\n",
    "random.shuffle(fake_files)\n",
    "\n",
    "# Step 3: Split files into 70% train and 30% test\n",
    "split_ratio = 0.3\n",
    "real_split_index = int(len(real_files) * split_ratio)\n",
    "fake_split_index = int(len(fake_files) * split_ratio)\n",
    "\n",
    "real_test_files = real_files[:real_split_index]\n",
    "real_train_files = real_files[real_split_index:]\n",
    "\n",
    "fake_test_files = fake_files[:fake_split_index]\n",
    "fake_train_files = fake_files[fake_split_index:]\n",
    "\n",
    "# Step 4: Move files to corresponding directories\n",
    "train_real_dir = os.path.join(extract_dir1, 'train', 'REAL')\n",
    "train_fake_dir = os.path.join(extract_dir1, 'train', 'FAKE')\n",
    "test_real_dir = os.path.join(extract_dir1, 'test', 'REAL')\n",
    "test_fake_dir = os.path.join(extract_dir1, 'test', 'FAKE')\n",
    "\n",
    "os.makedirs(train_real_dir, exist_ok=True)\n",
    "os.makedirs(train_fake_dir, exist_ok=True)\n",
    "os.makedirs(test_real_dir, exist_ok=True)\n",
    "os.makedirs(test_fake_dir, exist_ok=True)\n",
    "\n",
    "for file in real_train_files:\n",
    "    shutil.move(file, os.path.join(train_real_dir, os.path.basename(file)))\n",
    "\n",
    "for file in real_test_files:\n",
    "    shutil.move(file, os.path.join(test_real_dir, os.path.basename(file)))\n",
    "\n",
    "for file in fake_train_files:\n",
    "    shutil.move(file, os.path.join(train_fake_dir, os.path.basename(file)))\n",
    "\n",
    "for file in fake_test_files:\n",
    "    shutil.move(file, os.path.join(test_fake_dir, os.path.basename(file)))\n",
    "\n",
    "# Step 5: Create a new zip file with the updated structure\n",
    "def zip_dir(directory, zip_name):\n",
    "    with zipfile.ZipFile(zip_name, 'w', zipfile.ZIP_DEFLATED) as zipf:\n",
    "        for root, dirs, files in os.walk(directory):\n",
    "            for file in files:\n",
    "                file_path = os.path.join(root, file)\n",
    "                arcname = os.path.relpath(file_path, start=directory)\n",
    "                zipf.write(file_path, arcname)\n",
    "\n",
    "zip_dir(extract_dir1, new_zip_file_path)\n",
    "\n",
    "print(\"Files have been moved and zipped successfully.\")\n"
   ]
  }
 ],
 "metadata": {
  "kernelspec": {
   "display_name": "Python 3 (ipykernel)",
   "language": "python",
   "name": "python3"
  },
  "language_info": {
   "codemirror_mode": {
    "name": "ipython",
    "version": 3
   },
   "file_extension": ".py",
   "mimetype": "text/x-python",
   "name": "python",
   "nbconvert_exporter": "python",
   "pygments_lexer": "ipython3",
   "version": "3.11.9"
  }
 },
 "nbformat": 4,
 "nbformat_minor": 5
}
